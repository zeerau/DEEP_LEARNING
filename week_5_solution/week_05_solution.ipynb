{
  "cells": [
    {
      "cell_type": "code",
      "execution_count": null,
      "metadata": {
        "vscode": {
          "languageId": "plaintext"
        },
        "id": "sNK8GNNfL0aU"
      },
      "outputs": [],
      "source": [
        "import pandas as pd"
      ],
      "id": "sNK8GNNfL0aU"
    },
    {
      "cell_type": "markdown",
      "source": [
        "Our models are underperforming (not fitting the data well). What are 3 methods for preventing underfitting? Write them down and explain each with a sentence."
      ],
      "metadata": {
        "id": "XZEY52iXMvqg"
      },
      "id": "XZEY52iXMvqg"
    },
    {
      "cell_type": "code",
      "source": [
        "import torch\n",
        "from torch import nn\n",
        "\n",
        "# Note: this notebook requires torch >= 1.10.0\n",
        "torch.__version__"
      ],
      "metadata": {
        "id": "KE3nzp-JNobz",
        "outputId": "6ac5164f-d0d4-46ee-961f-bf7719d001fb",
        "colab": {
          "base_uri": "https://localhost:8080/",
          "height": 35
        }
      },
      "id": "KE3nzp-JNobz",
      "execution_count": 1,
      "outputs": [
        {
          "output_type": "execute_result",
          "data": {
            "text/plain": [
              "'2.6.0+cu124'"
            ],
            "application/vnd.google.colaboratory.intrinsic+json": {
              "type": "string"
            }
          },
          "metadata": {},
          "execution_count": 1
        }
      ]
    },
    {
      "cell_type": "code",
      "source": [],
      "metadata": {
        "id": "3VC2CCYvNwYY"
      },
      "id": "3VC2CCYvNwYY",
      "execution_count": null,
      "outputs": []
    },
    {
      "cell_type": "code",
      "source": [
        "Recreate the data loading functions we built in sections 1, 2, 3 and 4. You should have train and test DataLoader's ready to use."
      ],
      "metadata": {
        "id": "lI0_b9KoMt7d"
      },
      "id": "lI0_b9KoMt7d",
      "execution_count": null,
      "outputs": []
    },
    {
      "cell_type": "code",
      "source": [
        "Recreate model_0 we built in section 7"
      ],
      "metadata": {
        "id": "27WcS8UCM216"
      },
      "id": "27WcS8UCM216",
      "execution_count": null,
      "outputs": []
    },
    {
      "cell_type": "code",
      "source": [
        "Create training and testing functions for model_0"
      ],
      "metadata": {
        "id": "Nrqs65h5M_Kw"
      },
      "id": "Nrqs65h5M_Kw",
      "execution_count": null,
      "outputs": []
    },
    {
      "cell_type": "code",
      "source": [
        "Try training the model you made in exercise 3 for 5, 20 and 50 epochs, what happens to the results?\n",
        "Use torch.optim.Adam() with a learning rate of 0.001 as the optimizer.\n"
      ],
      "metadata": {
        "id": "M-8YF3WPNAaI"
      },
      "id": "M-8YF3WPNAaI",
      "execution_count": null,
      "outputs": []
    },
    {
      "cell_type": "code",
      "source": [
        "Double the number of hidden units in your model and train it for 20 epochs, what happens to the results?"
      ],
      "metadata": {
        "id": "pxvbLkTGNJkI"
      },
      "id": "pxvbLkTGNJkI",
      "execution_count": null,
      "outputs": []
    },
    {
      "cell_type": "code",
      "source": [
        "Make a prediction on your own custom image of pizza/steak/sushi (you could even download one from the internet) and share your prediction.\n"
      ],
      "metadata": {
        "id": "uN4IbOMYNbXB"
      },
      "id": "uN4IbOMYNbXB",
      "execution_count": null,
      "outputs": []
    }
  ],
  "metadata": {
    "language_info": {
      "name": "python"
    },
    "colab": {
      "provenance": [],
      "gpuType": "T4"
    },
    "accelerator": "GPU",
    "kernelspec": {
      "name": "python3",
      "display_name": "Python 3"
    }
  },
  "nbformat": 4,
  "nbformat_minor": 5
}