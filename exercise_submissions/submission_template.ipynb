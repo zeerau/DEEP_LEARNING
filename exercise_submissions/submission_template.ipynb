{
 "cells": [
  {
   "cell_type": "markdown",
   "metadata": {},
   "source": [
    "## Arewa Data Science Academy\n",
    "### Deep Learning Cohort1.0\n",
    "\n",
    "#### Name: Mustapha Abdullahi\n",
    "#### Email: mustapha@123.com\n",
    "#### Title: Week 1 Solution"
   ]
  },
  {
   "cell_type": "markdown",
   "metadata": {},
   "source": [
    "### Exercises Solution"
   ]
  },
  {
   "cell_type": "code",
   "execution_count": null,
   "metadata": {},
   "outputs": [],
   "source": [
    "# Exercise 1a- Solution\n",
    "a = torch.tensor([1, 2])"
   ]
  },
  {
   "cell_type": "markdown",
   "metadata": {},
   "source": [
    "### Additional Exercises Solution"
   ]
  },
  {
   "cell_type": "code",
   "execution_count": null,
   "metadata": {},
   "outputs": [],
   "source": []
  },
  {
   "cell_type": "markdown",
   "metadata": {},
   "source": [
    "**NOTE: NOT TO BE INCLUDED IN SUBMISSION FILE**\\\n",
    "HOW TO SUBMIT NOTES:\n",
    "1. Clone the repository\n",
    "```bash\n",
    "git clone https://github.com/arewadataScience/ArewaDS-Deep-Learning.git\n",
    "```\n",
    "2. Save each week's notebooks in this subfolder `exercise_submissions`\n",
    "3. Use the naming convension `week_{num}_solution.ipynb` e.g. `week_1_solution.ipynb`\n",
    "4. Please, make sure all the clear runs without errors and keep cell outputs before submission.\n",
    "\n",
    "\n",
    "SUBMIT ASSIGNMENT HERE: [CLICK ME ▶️](https://forms.gle/876vi4aNoFf4A2mU7)"
   ]
  }
 ],
 "metadata": {
  "language_info": {
   "name": "python"
  }
 },
 "nbformat": 4,
 "nbformat_minor": 2
}
