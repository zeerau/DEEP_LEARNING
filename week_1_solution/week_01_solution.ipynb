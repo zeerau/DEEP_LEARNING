{
  "cells": [
    {
      "cell_type": "code",
      "execution_count": 1,
      "metadata": {
        "id": "5YA8SLQ7D4CI",
        "outputId": "f4db9627-e969-470d-d8f8-eb91e732a01e",
        "colab": {
          "base_uri": "https://localhost:8080/",
          "height": 35
        }
      },
      "outputs": [
        {
          "output_type": "execute_result",
          "data": {
            "text/plain": [
              "'2.5.1+cu121'"
            ],
            "application/vnd.google.colaboratory.intrinsic+json": {
              "type": "string"
            }
          },
          "metadata": {},
          "execution_count": 1
        }
      ],
      "source": [
        "# Import torch\n",
        "\n",
        "import torch\n",
        "torch.__version__\n"
      ]
    },
    {
      "cell_type": "code",
      "execution_count": 2,
      "metadata": {
        "id": "7HOj5x1eD4CW"
      },
      "outputs": [],
      "source": [
        "# Create random tensor\n",
        "Tensor = torch.rand(7,7)"
      ]
    },
    {
      "cell_type": "markdown",
      "metadata": {
        "id": "qnktZdBID4CX"
      },
      "source": [
        "3. Perform a matrix multiplication on the tensor from 2 with another random tensor with shape (1, 7) (hint: you may have to transpose the second tensor).\n"
      ]
    },
    {
      "cell_type": "code",
      "execution_count": 3,
      "metadata": {
        "id": "aL2PhQnlD4Cc",
        "outputId": "a4ab74fb-acac-408b-ec69-f53186d934f3",
        "colab": {
          "base_uri": "https://localhost:8080/"
        }
      },
      "outputs": [
        {
          "output_type": "execute_result",
          "data": {
            "text/plain": [
              "tensor([[2.5429],\n",
              "        [2.0551],\n",
              "        [1.1208],\n",
              "        [1.7789],\n",
              "        [1.7520],\n",
              "        [1.2210],\n",
              "        [1.4764]])"
            ]
          },
          "metadata": {},
          "execution_count": 3
        }
      ],
      "source": [
        "\n",
        "# Create another random tensor\n",
        "anothe_tensor = torch.rand(1,7)\n",
        "# Perform matrix multiplication\n",
        "matrix_multiplication = torch.mm(Tensor,anothe_tensor.T)\n",
        "matrix_multiplication"
      ]
    },
    {
      "cell_type": "markdown",
      "metadata": {
        "id": "ukiXGe3cD4Ce"
      },
      "source": [
        "4. Set the random seed to 0 and do 2 & 3 over again.\n",
        "The output should be:\n",
        "\n",
        "(tensor([[1.8542],\n",
        "         [1.9611],\n",
        "         [2.2884],\n",
        "         [3.0481],\n",
        "         [1.7067],\n",
        "         [2.5290],\n",
        "         [1.7989]]), torch.Size([7, 1]))"
      ]
    },
    {
      "cell_type": "code",
      "execution_count": 4,
      "metadata": {
        "id": "nbJr0vslD4Cf",
        "outputId": "b371b4e1-42ed-4289-80f4-1c9324a287a7",
        "colab": {
          "base_uri": "https://localhost:8080/"
        }
      },
      "outputs": [
        {
          "output_type": "execute_result",
          "data": {
            "text/plain": [
              "tensor([[1.8542],\n",
              "        [1.9611],\n",
              "        [2.2884],\n",
              "        [3.0481],\n",
              "        [1.7067],\n",
              "        [2.5290],\n",
              "        [1.7989]])"
            ]
          },
          "metadata": {},
          "execution_count": 4
        }
      ],
      "source": [
        "# Set manual seed\n",
        "\n",
        "import random\n",
        "\n",
        "RANDOM_SEED=0\n",
        "torch.manual_seed(seed=RANDOM_SEED)\n",
        "# Create two random tensors\n",
        "Tensor = torch.rand(7,7)\n",
        "anothe_tensor = torch.rand(1,7)\n",
        "# Matrix multiply tensors\n",
        "seed_multiplication = torch.mm(Tensor,anothe_tensor.T)\n",
        "seed_multiplication"
      ]
    },
    {
      "cell_type": "markdown",
      "metadata": {
        "id": "ZM_eyGPVD4Ch"
      },
      "source": [
        "5. Speaking of random seeds, we saw how to set it with torch.manual_seed() but is there a GPU equivalent? (hint: you'll need to look into the documentation for torch.cuda for this one)\n",
        "   \n",
        "   If there is, set the GPU random seed to 1234."
      ]
    },
    {
      "cell_type": "code",
      "execution_count": 5,
      "metadata": {
        "id": "bABrlwp1D4Cl"
      },
      "outputs": [],
      "source": [
        "# Set random seed on the GPU\n",
        "torch.cuda.manual_seed_all(seed=1234)"
      ]
    },
    {
      "cell_type": "markdown",
      "metadata": {
        "id": "X-G08OMuD4Cq"
      },
      "source": [
        "6. Create two random tensors of shape (2, 3) and send them both to the GPU (you'll need access to a GPU for this). Set torch.manual_seed(1234) when creating the tensors (this doesn't have to be the GPU random seed). The output should be something like:\n",
        "   \n",
        "   \n",
        "Device: cuda\n",
        "(tensor([[0.0290, 0.4019, 0.2598],\n",
        "         [0.3666, 0.0583, 0.7006]], device='cuda:0'),\n",
        " tensor([[0.0518, 0.4681, 0.6738],\n",
        "         [0.3315, 0.7837, 0.5631]], device='cuda:0'))"
      ]
    },
    {
      "cell_type": "code",
      "execution_count": 6,
      "metadata": {
        "id": "USFSGlJ3D4Cs"
      },
      "outputs": [],
      "source": [
        "# Set random seed\n",
        "\n",
        "torch.manual_seed(seed=1234)\n",
        "# Check for access to GPU\n",
        "torch.cuda.is_available()\n",
        "# Create two random tensors on GPU\n",
        "Tensor = torch.rand(7,7).cuda()\n",
        "anothe_tensor = torch.rand(1,7).cuda()"
      ]
    },
    {
      "cell_type": "markdown",
      "metadata": {
        "id": "OaZIY6htD4Ct"
      },
      "source": [
        "7. Perform a matrix multiplication on the tensors you created in 6 (again, you may have to adjust the shapes of one of the tensors).\n",
        "The output should look like:\n",
        "\n",
        "(tensor([[0.3647, 0.4709],\n",
        "         [0.5184, 0.5617]], device='cuda:0'), torch.Size([2, 2]))"
      ]
    },
    {
      "cell_type": "code",
      "execution_count": 11,
      "metadata": {
        "id": "isXJ_WoSD4Cu",
        "outputId": "ec71a67d-ba00-46bd-db53-09286087dd17",
        "colab": {
          "base_uri": "https://localhost:8080/"
        }
      },
      "outputs": [
        {
          "output_type": "execute_result",
          "data": {
            "text/plain": [
              "tensor([[1.5166],\n",
              "        [3.1874],\n",
              "        [2.5350],\n",
              "        [2.8343],\n",
              "        [2.6844],\n",
              "        [2.6483],\n",
              "        [2.4059]], device='cuda:0')"
            ]
          },
          "metadata": {},
          "execution_count": 11
        }
      ],
      "source": [
        "# Perform matmul on tensor_A and tensor_B\n",
        "seed_multiplication = torch.mm(Tensor,anothe_tensor.T)\n",
        "seed_multiplication"
      ]
    },
    {
      "cell_type": "markdown",
      "metadata": {
        "id": "wfRWpxK8D4Cw"
      },
      "source": [
        "8. Find the maximum and minimum values of the output of 7."
      ]
    },
    {
      "cell_type": "code",
      "execution_count": 12,
      "metadata": {
        "id": "wXPU6x60D4Cx",
        "outputId": "a3695ffe-73b1-40bd-b07c-380407b07cff",
        "colab": {
          "base_uri": "https://localhost:8080/"
        }
      },
      "outputs": [
        {
          "output_type": "execute_result",
          "data": {
            "text/plain": [
              "tensor(1.5166, device='cuda:0')"
            ]
          },
          "metadata": {},
          "execution_count": 12
        }
      ],
      "source": [
        "# Find max\n",
        "max_value = torch.max(seed_multiplication)\n",
        "max_value\n",
        "# Find min\n",
        "min_value = torch.min(seed_multiplication)\n",
        "min_value"
      ]
    },
    {
      "cell_type": "markdown",
      "metadata": {
        "id": "fZZRoVWiD4Cy"
      },
      "source": [
        "9. Find the maximum and minimum index values of the output of 7."
      ]
    },
    {
      "cell_type": "code",
      "execution_count": 14,
      "metadata": {
        "id": "hUfbtChVD4C1",
        "outputId": "7c095917-7804-4361-d94d-ddb70fcf2e56",
        "colab": {
          "base_uri": "https://localhost:8080/"
        }
      },
      "outputs": [
        {
          "output_type": "execute_result",
          "data": {
            "text/plain": [
              "(tensor(1, device='cuda:0'), tensor(0, device='cuda:0'))"
            ]
          },
          "metadata": {},
          "execution_count": 14
        }
      ],
      "source": [
        "# Find arg max\n",
        "max_index = torch.argmax(seed_multiplication)\n",
        "max_index\n",
        "# Find arg min\n",
        "min_index = torch.argmin(seed_multiplication)\n",
        "max_index,min_index\n"
      ]
    },
    {
      "cell_type": "markdown",
      "metadata": {
        "id": "rcL-oKZeD4C5"
      },
      "source": [
        "10. Make a random tensor with shape (1, 1, 1, 10) and then create a new tensor with all the 1 dimensions removed to be left with a tensor of shape (10). Set the seed to 7 when you create it and print out the first tensor and it's shape as well as the second tensor and it's shape.\n",
        "The output should look like:\n",
        "\n",
        "tensor([[[[0.5349, 0.1988, 0.6592, 0.6569, 0.2328, 0.4251, 0.2071, 0.6297,\n",
        "           0.3653, 0.8513]]]]) torch.Size([1, 1, 1, 10])\n",
        "tensor([0.5349, 0.1988, 0.6592, 0.6569, 0.2328, 0.4251, 0.2071, 0.6297, 0.3653,\n",
        "        0.8513]) torch.Size([10])"
      ]
    },
    {
      "cell_type": "code",
      "execution_count": 15,
      "metadata": {
        "id": "nZYkMi-FD4C7",
        "outputId": "fc4846c1-e3a3-49b8-f83b-81d36fc88914",
        "colab": {
          "base_uri": "https://localhost:8080/"
        }
      },
      "outputs": [
        {
          "output_type": "stream",
          "name": "stdout",
          "text": [
            "tensor([[[[0.5349, 0.1988, 0.6592, 0.6569, 0.2328, 0.4251, 0.2071, 0.6297,\n",
            "           0.3653, 0.8513]]]]) torch.Size([1, 1, 1, 10])\n",
            "tensor([0.5349, 0.1988, 0.6592, 0.6569, 0.2328, 0.4251, 0.2071, 0.6297, 0.3653,\n",
            "        0.8513]) torch.Size([10])\n"
          ]
        }
      ],
      "source": [
        "# Set seed\n",
        "\n",
        "torch.manual_seed(seed=7)\n",
        "# Create random tensor\n",
        "random_tensor = torch.rand(1,1,1,10)\n",
        "# Remove single dimensions\n",
        "random_tensor_squeezed = random_tensor.squeeze()\n",
        "# Print out tensors and their shapes\n",
        "print(random_tensor,random_tensor.shape)\n",
        "print(random_tensor_squeezed,random_tensor_squeezed.shape)\n"
      ]
    }
  ],
  "metadata": {
    "kernelspec": {
      "display_name": "Python 3",
      "name": "python3"
    },
    "language_info": {
      "codemirror_mode": {
        "name": "ipython",
        "version": 3
      },
      "file_extension": ".py",
      "mimetype": "text/x-python",
      "name": "python",
      "nbconvert_exporter": "python",
      "pygments_lexer": "ipython3",
      "version": "3.11.10"
    },
    "colab": {
      "provenance": [],
      "gpuType": "T4"
    },
    "accelerator": "GPU"
  },
  "nbformat": 4,
  "nbformat_minor": 0
}